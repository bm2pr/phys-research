{
 "cells": [
  {
   "cell_type": "markdown",
   "metadata": {},
   "source": [
    "#  Full ML fit\n",
    "\n",
    "This notebook is a follow up to the Prelim_ML_fit.ipynb experiment.  It improves upon that model with variance estimation using replica method and an exploration of optimization algorithms.  Finally, a dense layer is added preceding the model to demonstrate a potential architecture for a global fit."
   ]
  },
  {
   "cell_type": "markdown",
   "metadata": {},
   "source": [
    "# Setup"
   ]
  },
  {
   "cell_type": "code",
   "execution_count": 18,
   "metadata": {},
   "outputs": [],
   "source": [
    "# whenever changes are made to any imported files this will reload them automatically\n",
    "%load_ext autoreload\n",
    "%autoreload 2"
   ]
  },
  {
   "cell_type": "code",
   "execution_count": 19,
   "metadata": {},
   "outputs": [
    {
     "name": "stdout",
     "output_type": "stream",
     "text": [
      "2.3.0\n"
     ]
    }
   ],
   "source": [
    "import tensorflow as tf\n",
    "import numpy as np\n",
    "import pandas as pd\n",
    "import matplotlib.pyplot as plt\n",
    "from tqdm import tqdm\n",
    "\n",
    "print(tf.__version__)"
   ]
  },
  {
   "cell_type": "code",
   "execution_count": 20,
   "metadata": {},
   "outputs": [],
   "source": [
    "from BHDVCStf import BHDVCS #modified bhdvcs file\n",
    "bhdvcs = BHDVCS()"
   ]
  },
  {
   "cell_type": "code",
   "execution_count": 23,
   "metadata": {},
   "outputs": [],
   "source": [
    "df = pd.read_csv('data.csv')"
   ]
  },
  {
   "cell_type": "code",
   "execution_count": 24,
   "metadata": {},
   "outputs": [],
   "source": [
    "class DvcsData(object):\n",
    "    def __init__(self, df):\n",
    "        self.X = df.loc[:, ['phi_x', 'k', 'QQ', 'x_b', 't', 'F1', 'F2', 'ReH', 'ReE', 'ReHtilde', 'dvcs']]\n",
    "        self.XnoCFF = df.loc[:, ['phi_x', 'k', 'QQ', 'x_b', 't', 'F1', 'F2', 'dvcs']]\n",
    "        self.y = df.loc[:, 'F']\n",
    "        self.Kinematics = df.loc[:, ['k', 'QQ', 'x_b', 't']]\n",
    "        self.erry = df.loc[:, 'errF']\n",
    "        \n",
    "    def __len__(self):\n",
    "        return len(self.X)\n",
    "    \n",
    "    def getSet(self, setNum, itemsInSet=36):\n",
    "        pd.options.mode.chained_assignment = None\n",
    "        subX = self.X.loc[setNum*itemsInSet:(setNum+1)*itemsInSet-1, :]\n",
    "        subX['F'] = self.y.loc[setNum*itemsInSet:(setNum+1)*itemsInSet-1]\n",
    "        subX['errF'] = self.erry.loc[setNum*itemsInSet:(setNum+1)*itemsInSet-1]\n",
    "        pd.options.mode.chained_assignment = 'warn'\n",
    "        return DvcsData(subX)\n",
    "    \n",
    "    def sampleY(self):\n",
    "        return np.random.normal(self.y, self.erry)"
   ]
  },
  {
   "cell_type": "code",
   "execution_count": 25,
   "metadata": {},
   "outputs": [],
   "source": [
    "def vecF(DvcsData, TotalUUXS):\n",
    "    \"\"\"\n",
    "    params:\n",
    "        data: this should be of type DvcsData\n",
    "        TotalUUXS: this should be the function from F.C\n",
    "    \"\"\"\n",
    "    results = np.zeros(len(data))\n",
    "    for i in range(len(data)):\n",
    "        results[i] = TotalUUXS(*data.X.loc[i, :])\n",
    "    return results"
   ]
  },
  {
   "cell_type": "code",
   "execution_count": 26,
   "metadata": {},
   "outputs": [],
   "source": [
    "class savedParams(object):\n",
    "    def __init__(self, numEpochs):\n",
    "        self.savedparams = pd.DataFrame({'Epoch':np.zeros(numEpochs), 'Loss':np.zeros(numEpochs),\n",
    "                                         'ReH':np.zeros(numEpochs), 'ReE':np.zeros(numEpochs),\n",
    "                                         'ReHtilde':np.zeros(numEpochs)})\n",
    "    \n",
    "    def newData(self, epoch, loss, ReH, ReE, ReHtilde):\n",
    "        self.savedparams.loc[epoch, :] = {'Epoch':epoch, 'Loss':loss, 'ReH':ReH, 'ReE':ReE, 'ReHtilde':ReHtilde}"
   ]
  },
  {
   "cell_type": "code",
   "execution_count": 27,
   "metadata": {},
   "outputs": [],
   "source": [
    "def pcterr(obs, exp):\n",
    "    return 100*(obs-exp)/exp"
   ]
  },
  {
   "cell_type": "code",
   "execution_count": 28,
   "metadata": {},
   "outputs": [],
   "source": [
    "def form(tensors): #only works for 1d tensors\n",
    "    return str(np.round(np.array([x.numpy() for x in tensors]), decimals=2))"
   ]
  },
  {
   "cell_type": "markdown",
   "metadata": {},
   "source": [
    "## Replica method"
   ]
  },
  {
   "cell_type": "code",
   "execution_count": 29,
   "metadata": {},
   "outputs": [],
   "source": [
    "data = DvcsData(df)\n",
    "set0 = data.getSet(0)\n",
    "X_train = np.asarray(set0.XnoCFF).T # have to take transpose to get everything to work\n",
    "y_sample = np.asarray(set0.sampleY())"
   ]
  },
  {
   "cell_type": "code",
   "execution_count": 30,
   "metadata": {},
   "outputs": [],
   "source": [
    "class TotalUUXS(tf.keras.Model):\n",
    "    def __init__(self):\n",
    "        super(TotalUUXS, self).__init__(dtype='float64')\n",
    "        self.ReH = tf.Variable(1., dtype='float64', name='ReH') # all compton form factors are set to 1.0 initially\n",
    "        self.ReE = tf.Variable(1., dtype='float64', name='ReE')\n",
    "        self.ReHtilde = tf.Variable(1., dtype='float64', name='ReHtilde')\n",
    "        self.F = BHDVCS()\n",
    "    def call(self, inputs):\n",
    "        return self.F.TotalUUXS(inputs, self.ReH, self.ReE, self.ReHtilde)"
   ]
  },
  {
   "cell_type": "code",
   "execution_count": 31,
   "metadata": {},
   "outputs": [],
   "source": [
    "def loss(model, inputs, targets):\n",
    "    error = model(inputs) - targets\n",
    "    return tf.reduce_mean(tf.square(error))"
   ]
  },
  {
   "cell_type": "code",
   "execution_count": 32,
   "metadata": {},
   "outputs": [],
   "source": [
    "def grad(model, inputs, targets):\n",
    "    with tf.GradientTape() as tape:\n",
    "        loss_value = loss(model, inputs, targets)\n",
    "    return tape.gradient(loss_value, [model.ReH, model.ReE, model.ReHtilde])"
   ]
  },
  {
   "cell_type": "code",
   "execution_count": 33,
   "metadata": {},
   "outputs": [],
   "source": [
    "def training_loop(epochs, X_train, y_train, lr=5000, when2print=None):\n",
    "    \n",
    "    sv = savedParams(epochs)\n",
    "    model = TotalUUXS()  # Should maybe be refactored\n",
    "    optimizer = tf.keras.optimizers.Adam(learning_rate=lr) # in this case we need a pretty high learning rate\n",
    "    \n",
    "    for i in range(epochs):\n",
    "        grads = grad(model, X_train, y_train)\n",
    "        optimizer.apply_gradients(zip(grads, [model.ReH, model.ReE, model.ReHtilde]), )\n",
    "\n",
    "        epoch_loss = loss(model, X_train, y_train)\n",
    "        sv.newData(i, epoch_loss.numpy(), model.ReH.numpy(), model.ReE.numpy(), model.ReHtilde.numpy())\n",
    "        if when2print:\n",
    "            if i % when2print == 0: # print state every __ epochs\n",
    "                print(\"Loss at epoch {:03d}: {:.5f}\".format(i, epoch_loss),\n",
    "                      \"Grads: \" + form(grads),\n",
    "                      \"ReH, ReE, ReHtilde: \" + form([model.ReH, model.ReE, model.ReHtilde]))\n",
    "    return sv"
   ]
  },
  {
   "cell_type": "code",
   "execution_count": 42,
   "metadata": {},
   "outputs": [
    {
     "name": "stdout",
     "output_type": "stream",
     "text": [
      "[[ 0.00000e+00  1.00000e+01  2.00000e+01  3.00000e+01  4.00000e+01\n",
      "   5.00000e+01  6.00000e+01  7.00000e+01  8.00000e+01  9.00000e+01\n",
      "   1.00000e+02  1.10000e+02  1.20000e+02  1.30000e+02  1.40000e+02\n",
      "   1.50000e+02  1.60000e+02  1.70000e+02  1.80000e+02  1.90000e+02\n",
      "   2.00000e+02  2.10000e+02  2.20000e+02  2.30000e+02  2.40000e+02\n",
      "   2.50000e+02  2.60000e+02  2.70000e+02  2.80000e+02  2.90000e+02\n",
      "   3.00000e+02  3.10000e+02  3.20000e+02  3.30000e+02  3.40000e+02\n",
      "   3.50000e+02]\n",
      " [ 3.75000e+00  3.75000e+00  3.75000e+00  3.75000e+00  3.75000e+00\n",
      "   3.75000e+00  3.75000e+00  3.75000e+00  3.75000e+00  3.75000e+00\n",
      "   3.75000e+00  3.75000e+00  3.75000e+00  3.75000e+00  3.75000e+00\n",
      "   3.75000e+00  3.75000e+00  3.75000e+00  3.75000e+00  3.75000e+00\n",
      "   3.75000e+00  3.75000e+00  3.75000e+00  3.75000e+00  3.75000e+00\n",
      "   3.75000e+00  3.75000e+00  3.75000e+00  3.75000e+00  3.75000e+00\n",
      "   3.75000e+00  3.75000e+00  3.75000e+00  3.75000e+00  3.75000e+00\n",
      "   3.75000e+00]\n",
      " [ 1.74013e+00  1.74013e+00  1.74013e+00  1.74013e+00  1.74013e+00\n",
      "   1.74013e+00  1.74013e+00  1.74013e+00  1.74013e+00  1.74013e+00\n",
      "   1.74013e+00  1.74013e+00  1.74013e+00  1.74013e+00  1.74013e+00\n",
      "   1.74013e+00  1.74013e+00  1.74013e+00  1.74013e+00  1.74013e+00\n",
      "   1.74013e+00  1.74013e+00  1.74013e+00  1.74013e+00  1.74013e+00\n",
      "   1.74013e+00  1.74013e+00  1.74013e+00  1.74013e+00  1.74013e+00\n",
      "   1.74013e+00  1.74013e+00  1.74013e+00  1.74013e+00  1.74013e+00\n",
      "   1.74013e+00]\n",
      " [ 4.35095e-01  4.35095e-01  4.35095e-01  4.35095e-01  4.35095e-01\n",
      "   4.35095e-01  4.35095e-01  4.35095e-01  4.35095e-01  4.35095e-01\n",
      "   4.35095e-01  4.35095e-01  4.35095e-01  4.35095e-01  4.35095e-01\n",
      "   4.35095e-01  4.35095e-01  4.35095e-01  4.35095e-01  4.35095e-01\n",
      "   4.35095e-01  4.35095e-01  4.35095e-01  4.35095e-01  4.35095e-01\n",
      "   4.35095e-01  4.35095e-01  4.35095e-01  4.35095e-01  4.35095e-01\n",
      "   4.35095e-01  4.35095e-01  4.35095e-01  4.35095e-01  4.35095e-01\n",
      "   4.35095e-01]\n",
      " [-3.80868e-01 -3.80868e-01 -3.80868e-01 -3.80868e-01 -3.80868e-01\n",
      "  -3.80868e-01 -3.80868e-01 -3.80868e-01 -3.80868e-01 -3.80868e-01\n",
      "  -3.80868e-01 -3.80868e-01 -3.80868e-01 -3.80868e-01 -3.80868e-01\n",
      "  -3.80868e-01 -3.80868e-01 -3.80868e-01 -3.80868e-01 -3.80868e-01\n",
      "  -3.80868e-01 -3.80868e-01 -3.80868e-01 -3.80868e-01 -3.80868e-01\n",
      "  -3.80868e-01 -3.80868e-01 -3.80868e-01 -3.80868e-01 -3.80868e-01\n",
      "  -3.80868e-01 -3.80868e-01 -3.80868e-01 -3.80868e-01 -3.80868e-01\n",
      "  -3.80868e-01]\n",
      " [ 4.98060e-01  4.98060e-01  4.98060e-01  4.98060e-01  4.98060e-01\n",
      "   4.98060e-01  4.98060e-01  4.98060e-01  4.98060e-01  4.98060e-01\n",
      "   4.98060e-01  4.98060e-01  4.98060e-01  4.98060e-01  4.98060e-01\n",
      "   4.98060e-01  4.98060e-01  4.98060e-01  4.98060e-01  4.98060e-01\n",
      "   4.98060e-01  4.98060e-01  4.98060e-01  4.98060e-01  4.98060e-01\n",
      "   4.98060e-01  4.98060e-01  4.98060e-01  4.98060e-01  4.98060e-01\n",
      "   4.98060e-01  4.98060e-01  4.98060e-01  4.98060e-01  4.98060e-01\n",
      "   4.98060e-01]\n",
      " [ 6.85790e-01  6.85790e-01  6.85790e-01  6.85790e-01  6.85790e-01\n",
      "   6.85790e-01  6.85790e-01  6.85790e-01  6.85790e-01  6.85790e-01\n",
      "   6.85790e-01  6.85790e-01  6.85790e-01  6.85790e-01  6.85790e-01\n",
      "   6.85790e-01  6.85790e-01  6.85790e-01  6.85790e-01  6.85790e-01\n",
      "   6.85790e-01  6.85790e-01  6.85790e-01  6.85790e-01  6.85790e-01\n",
      "   6.85790e-01  6.85790e-01  6.85790e-01  6.85790e-01  6.85790e-01\n",
      "   6.85790e-01  6.85790e-01  6.85790e-01  6.85790e-01  6.85790e-01\n",
      "   6.85790e-01]\n",
      " [ 1.22881e-02  1.22881e-02  1.22881e-02  1.22881e-02  1.22881e-02\n",
      "   1.22881e-02  1.22881e-02  1.22881e-02  1.22881e-02  1.22881e-02\n",
      "   1.22881e-02  1.22881e-02  1.22881e-02  1.22881e-02  1.22881e-02\n",
      "   1.22881e-02  1.22881e-02  1.22881e-02  1.22881e-02  1.22881e-02\n",
      "   1.22881e-02  1.22881e-02  1.22881e-02  1.22881e-02  1.22881e-02\n",
      "   1.22881e-02  1.22881e-02  1.22881e-02  1.22881e-02  1.22881e-02\n",
      "   1.22881e-02  1.22881e-02  1.22881e-02  1.22881e-02  1.22881e-02\n",
      "   1.22881e-02]]\n"
     ]
    }
   ],
   "source": [
    "print(X_train)"
   ]
  },
  {
   "cell_type": "markdown",
   "metadata": {},
   "source": [
    "The only difference between this training loop and the one in my previous notebook is that y is being sampled each time rather than passed directly"
   ]
  },
  {
   "cell_type": "markdown",
   "metadata": {},
   "source": [
    "## Run model"
   ]
  },
  {
   "cell_type": "code",
   "execution_count": 34,
   "metadata": {},
   "outputs": [],
   "source": [
    "numSamples = 50\n",
    "results = pd.DataFrame({\n",
    "  \"ReH\": np.zeros(numSamples),\n",
    "  \"ReE\": np.zeros(numSamples),\n",
    "  \"ReHtilde\": np.zeros(numSamples)\n",
    "})"
   ]
  },
  {
   "cell_type": "code",
   "execution_count": 35,
   "metadata": {},
   "outputs": [
    {
     "name": "stderr",
     "output_type": "stream",
     "text": [
      "100%|██████████████████████████████████████████████████████████████████████████████████| 50/50 [33:53<00:00, 40.67s/it]\n"
     ]
    }
   ],
   "source": [
    "for i in tqdm(range(numSamples)):\n",
    "    setI = data.getSet(0)\n",
    "    X_train = np.asarray(setI.XnoCFF).T # have to take transpose to get everything to work\n",
    "    y_train = np.asarray(setI.sampleY())\n",
    "    info = training_loop(1500, X_train, y_train, lr=3100)\n",
    "    minloss = info.savedparams.loc[info.savedparams['Loss'].idxmin(), :]\n",
    "    \n",
    "    for cff in ['ReH', 'ReE', 'ReHtilde']:\n",
    "        results.loc[i, cff] = minloss[cff]"
   ]
  },
  {
   "cell_type": "markdown",
   "metadata": {},
   "source": [
    "## Results"
   ]
  },
  {
   "cell_type": "code",
   "execution_count": 36,
   "metadata": {},
   "outputs": [
    {
     "name": "stdout",
     "output_type": "stream",
     "text": [
      "             Fitted     Error      True\n",
      "ReH       12.684495  0.880815  13.05540\n",
      "ReE      -51.181308  4.497768 -53.05540\n",
      "ReHTilde   7.290024  0.584154   7.25302\n"
     ]
    }
   ],
   "source": [
    "print(pd.DataFrame({'Fitted': list(results.mean()),\n",
    "                'Error': list(results.std()),\n",
    "                'True': list(df.loc[0, ['ReH', 'ReE', 'ReHtilde']])},\n",
    "             ['ReH', 'ReE', 'ReHTilde']))"
   ]
  },
  {
   "cell_type": "code",
   "execution_count": 37,
   "metadata": {},
   "outputs": [
    {
     "data": {
      "image/png": "[encoded data removed]",
      "text/plain": [
       "<Figure size 432x288 with 4 Axes>"
      ]
     },
     "metadata": {
      "needs_background": "light"
     },
     "output_type": "display_data"
    }
   ],
   "source": [
    "%matplotlib inline\n",
    "results.hist()\n",
    "plt.show()"
   ]
  },
  {
   "cell_type": "code",
   "execution_count": 38,
   "metadata": {},
   "outputs": [
    {
     "name": "stdout",
     "output_type": "stream",
     "text": [
      "95% Lower Bound:\n",
      "ReH         10.922866\n",
      "ReE        -60.176844\n",
      "ReHtilde     6.121715\n",
      "dtype: float64\n",
      "\n",
      "95% Upper Bound:\n",
      "ReH         14.446125\n",
      "ReE        -42.185773\n",
      "ReHtilde     8.458333\n",
      "dtype: float64\n",
      "\n",
      "True:\n",
      "ReH         13.05540\n",
      "ReE        -53.05540\n",
      "ReHtilde     7.25302\n",
      "Name: 0, dtype: float64\n"
     ]
    }
   ],
   "source": [
    "print(\"95% Lower Bound:\")\n",
    "print(results.mean() - 2*results.std())\n",
    "print(\"\\n95% Upper Bound:\")\n",
    "print(results.mean() + 2*results.std())\n",
    "print(\"\\nTrue:\")\n",
    "print(df.loc[0, ['ReH', 'ReE', 'ReHtilde']])"
   ]
  },
  {
   "cell_type": "markdown",
   "metadata": {},
   "source": [
    "# Add Preceding Dense Layer\n",
    "\n",
    "To demonstrate global fit"
   ]
  },
  {
   "cell_type": "code",
   "execution_count": 39,
   "metadata": {},
   "outputs": [],
   "source": [
    "data = DvcsData(df)\n",
    "set0 = data.getSet(0)"
   ]
  },
  {
   "cell_type": "markdown",
   "metadata": {},
   "source": [
    "## Model"
   ]
  },
  {
   "cell_type": "markdown",
   "metadata": {},
   "source": [
    "### Define functional layer"
   ]
  },
  {
   "cell_type": "code",
   "execution_count": 40,
   "metadata": {},
   "outputs": [],
   "source": [
    "class TotalUUXS(tf.keras.layers.Layer):\n",
    "    def __init__(self):\n",
    "        super(TotalUUXS, self).__init__(dtype='float64')\n",
    "        self.F = BHDVCS()\n",
    "    def call(self, inputs):\n",
    "        return self.F.TotalUUXS(inputs[:, :8], inputs[:, 8], inputs[:, 9], inputs[:, 10])"
   ]
  },
  {
   "cell_type": "markdown",
   "metadata": {},
   "source": [
    "### Define model"
   ]
  },
  {
   "cell_type": "code",
   "execution_count": 41,
   "metadata": {},
   "outputs": [
    {
     "ename": "TypeError",
     "evalue": "You are attempting to use Python control flow in a layer that was not declared to be dynamic. Pass `dynamic=True` to the class constructor.\nEncountered error:\n\"\"\"\nin user code:\n\n    <ipython-input-40-0196959ca834>:6 call  *\n        return self.F.TotalUUXS(inputs[:, :8], inputs[:, 8], inputs[:, 9], inputs[:, 10])\n    C:\\Users\\bijan\\Tensor Fit\\BHDVCStf.py:238 TotalUUXS  *\n        phi, k, QQ, xb, t, F1, F2, dvcs = x # a little weird but I like the readability\n    C:\\Users\\bijan\\anaconda3\\lib\\site-packages\\tensorflow\\python\\framework\\ops.py:503 __iter__\n        self._disallow_iteration()\n    C:\\Users\\bijan\\anaconda3\\lib\\site-packages\\tensorflow\\python\\framework\\ops.py:499 _disallow_iteration\n        self._disallow_in_graph_mode(\"iterating over `tf.Tensor`\")\n    C:\\Users\\bijan\\anaconda3\\lib\\site-packages\\tensorflow\\python\\framework\\ops.py:479 _disallow_in_graph_mode\n        \" this function with @tf.function.\".format(task))\n\n    OperatorNotAllowedInGraphError: iterating over `tf.Tensor` is not allowed in Graph execution. Use Eager execution or decorate this function with @tf.function.\n\n\"\"\"",
     "output_type": "error",
     "traceback": [
      "\u001b[1;31m---------------------------------------------------------------------------\u001b[0m",
      "\u001b[1;31mOperatorNotAllowedInGraphError\u001b[0m            Traceback (most recent call last)",
      "\u001b[1;32m~\\anaconda3\\lib\\site-packages\\tensorflow\\python\\keras\\engine\\base_layer.py\u001b[0m in \u001b[0;36m_functional_construction_call\u001b[1;34m(self, inputs, args, kwargs, input_list)\u001b[0m\n\u001b[0;32m   1116\u001b[0m             \u001b[1;32mwith\u001b[0m \u001b[0mops\u001b[0m\u001b[1;33m.\u001b[0m\u001b[0menable_auto_cast_variables\u001b[0m\u001b[1;33m(\u001b[0m\u001b[0mself\u001b[0m\u001b[1;33m.\u001b[0m\u001b[0m_compute_dtype_object\u001b[0m\u001b[1;33m)\u001b[0m\u001b[1;33m:\u001b[0m\u001b[1;33m\u001b[0m\u001b[1;33m\u001b[0m\u001b[0m\n\u001b[1;32m-> 1117\u001b[1;33m               \u001b[0moutputs\u001b[0m \u001b[1;33m=\u001b[0m \u001b[0mcall_fn\u001b[0m\u001b[1;33m(\u001b[0m\u001b[0mcast_inputs\u001b[0m\u001b[1;33m,\u001b[0m \u001b[1;33m*\u001b[0m\u001b[0margs\u001b[0m\u001b[1;33m,\u001b[0m \u001b[1;33m**\u001b[0m\u001b[0mkwargs\u001b[0m\u001b[1;33m)\u001b[0m\u001b[1;33m\u001b[0m\u001b[1;33m\u001b[0m\u001b[0m\n\u001b[0m\u001b[0;32m   1118\u001b[0m \u001b[1;33m\u001b[0m\u001b[0m\n",
      "\u001b[1;32m~\\anaconda3\\lib\\site-packages\\tensorflow\\python\\autograph\\impl\\api.py\u001b[0m in \u001b[0;36mwrapper\u001b[1;34m(*args, **kwargs)\u001b[0m\n\u001b[0;32m    257\u001b[0m         \u001b[1;32mif\u001b[0m \u001b[0mhasattr\u001b[0m\u001b[1;33m(\u001b[0m\u001b[0me\u001b[0m\u001b[1;33m,\u001b[0m \u001b[1;34m'ag_error_metadata'\u001b[0m\u001b[1;33m)\u001b[0m\u001b[1;33m:\u001b[0m\u001b[1;33m\u001b[0m\u001b[1;33m\u001b[0m\u001b[0m\n\u001b[1;32m--> 258\u001b[1;33m           \u001b[1;32mraise\u001b[0m \u001b[0me\u001b[0m\u001b[1;33m.\u001b[0m\u001b[0mag_error_metadata\u001b[0m\u001b[1;33m.\u001b[0m\u001b[0mto_exception\u001b[0m\u001b[1;33m(\u001b[0m\u001b[0me\u001b[0m\u001b[1;33m)\u001b[0m\u001b[1;33m\u001b[0m\u001b[1;33m\u001b[0m\u001b[0m\n\u001b[0m\u001b[0;32m    259\u001b[0m         \u001b[1;32melse\u001b[0m\u001b[1;33m:\u001b[0m\u001b[1;33m\u001b[0m\u001b[1;33m\u001b[0m\u001b[0m\n",
      "\u001b[1;31mOperatorNotAllowedInGraphError\u001b[0m: in user code:\n\n    <ipython-input-40-0196959ca834>:6 call  *\n        return self.F.TotalUUXS(inputs[:, :8], inputs[:, 8], inputs[:, 9], inputs[:, 10])\n    C:\\Users\\bijan\\Tensor Fit\\BHDVCStf.py:238 TotalUUXS  *\n        phi, k, QQ, xb, t, F1, F2, dvcs = x # a little weird but I like the readability\n    C:\\Users\\bijan\\anaconda3\\lib\\site-packages\\tensorflow\\python\\framework\\ops.py:503 __iter__\n        self._disallow_iteration()\n    C:\\Users\\bijan\\anaconda3\\lib\\site-packages\\tensorflow\\python\\framework\\ops.py:499 _disallow_iteration\n        self._disallow_in_graph_mode(\"iterating over `tf.Tensor`\")\n    C:\\Users\\bijan\\anaconda3\\lib\\site-packages\\tensorflow\\python\\framework\\ops.py:479 _disallow_in_graph_mode\n        \" this function with @tf.function.\".format(task))\n\n    OperatorNotAllowedInGraphError: iterating over `tf.Tensor` is not allowed in Graph execution. Use Eager execution or decorate this function with @tf.function.\n",
      "\nDuring handling of the above exception, another exception occurred:\n",
      "\u001b[1;31mTypeError\u001b[0m                                 Traceback (most recent call last)",
      "\u001b[1;32m<ipython-input-41-6116626826f2>\u001b[0m in \u001b[0;36m<module>\u001b[1;34m\u001b[0m\n\u001b[0;32m      4\u001b[0m \u001b[0mnoncffInputs\u001b[0m \u001b[1;33m=\u001b[0m \u001b[0mtf\u001b[0m\u001b[1;33m.\u001b[0m\u001b[0mkeras\u001b[0m\u001b[1;33m.\u001b[0m\u001b[0mInput\u001b[0m\u001b[1;33m(\u001b[0m\u001b[0mshape\u001b[0m\u001b[1;33m=\u001b[0m\u001b[1;33m(\u001b[0m\u001b[1;36m8\u001b[0m\u001b[1;33m)\u001b[0m\u001b[1;33m)\u001b[0m\u001b[1;33m\u001b[0m\u001b[1;33m\u001b[0m\u001b[0m\n\u001b[0;32m      5\u001b[0m \u001b[0mtotalUUXSInputs\u001b[0m \u001b[1;33m=\u001b[0m \u001b[0mtf\u001b[0m\u001b[1;33m.\u001b[0m\u001b[0mkeras\u001b[0m\u001b[1;33m.\u001b[0m\u001b[0mlayers\u001b[0m\u001b[1;33m.\u001b[0m\u001b[0mconcatenate\u001b[0m\u001b[1;33m(\u001b[0m\u001b[1;33m[\u001b[0m\u001b[0mnoncffInputs\u001b[0m\u001b[1;33m,\u001b[0m \u001b[0moutputs\u001b[0m\u001b[1;33m]\u001b[0m\u001b[1;33m)\u001b[0m\u001b[1;33m\u001b[0m\u001b[1;33m\u001b[0m\u001b[0m\n\u001b[1;32m----> 6\u001b[1;33m \u001b[0mF\u001b[0m \u001b[1;33m=\u001b[0m \u001b[0mTotalUUXS\u001b[0m\u001b[1;33m(\u001b[0m\u001b[1;33m)\u001b[0m\u001b[1;33m(\u001b[0m\u001b[0mtotalUUXSInputs\u001b[0m\u001b[1;33m)\u001b[0m\u001b[1;33m\u001b[0m\u001b[1;33m\u001b[0m\u001b[0m\n\u001b[0m\u001b[0;32m      7\u001b[0m \u001b[1;33m\u001b[0m\u001b[0m\n\u001b[0;32m      8\u001b[0m \u001b[0mglobalModel\u001b[0m \u001b[1;33m=\u001b[0m \u001b[0mtf\u001b[0m\u001b[1;33m.\u001b[0m\u001b[0mkeras\u001b[0m\u001b[1;33m.\u001b[0m\u001b[0mModel\u001b[0m\u001b[1;33m(\u001b[0m\u001b[0minputs\u001b[0m\u001b[1;33m=\u001b[0m\u001b[1;33m[\u001b[0m\u001b[0mkinematics\u001b[0m\u001b[1;33m,\u001b[0m \u001b[0mnoncffInputs\u001b[0m\u001b[1;33m]\u001b[0m\u001b[1;33m,\u001b[0m \u001b[0moutputs\u001b[0m\u001b[1;33m=\u001b[0m\u001b[0mF\u001b[0m\u001b[1;33m,\u001b[0m \u001b[0mname\u001b[0m\u001b[1;33m=\u001b[0m\u001b[1;34m\"GlobalModel\"\u001b[0m\u001b[1;33m)\u001b[0m\u001b[1;33m\u001b[0m\u001b[1;33m\u001b[0m\u001b[0m\n",
      "\u001b[1;32m~\\anaconda3\\lib\\site-packages\\tensorflow\\python\\keras\\engine\\base_layer.py\u001b[0m in \u001b[0;36m__call__\u001b[1;34m(self, *args, **kwargs)\u001b[0m\n\u001b[0;32m    924\u001b[0m     \u001b[1;32mif\u001b[0m \u001b[0m_in_functional_construction_mode\u001b[0m\u001b[1;33m(\u001b[0m\u001b[0mself\u001b[0m\u001b[1;33m,\u001b[0m \u001b[0minputs\u001b[0m\u001b[1;33m,\u001b[0m \u001b[0margs\u001b[0m\u001b[1;33m,\u001b[0m \u001b[0mkwargs\u001b[0m\u001b[1;33m,\u001b[0m \u001b[0minput_list\u001b[0m\u001b[1;33m)\u001b[0m\u001b[1;33m:\u001b[0m\u001b[1;33m\u001b[0m\u001b[1;33m\u001b[0m\u001b[0m\n\u001b[0;32m    925\u001b[0m       return self._functional_construction_call(inputs, args, kwargs,\n\u001b[1;32m--> 926\u001b[1;33m                                                 input_list)\n\u001b[0m\u001b[0;32m    927\u001b[0m \u001b[1;33m\u001b[0m\u001b[0m\n\u001b[0;32m    928\u001b[0m     \u001b[1;31m# Maintains info about the `Layer.call` stack.\u001b[0m\u001b[1;33m\u001b[0m\u001b[1;33m\u001b[0m\u001b[1;33m\u001b[0m\u001b[0m\n",
      "\u001b[1;32m~\\anaconda3\\lib\\site-packages\\tensorflow\\python\\keras\\engine\\base_layer.py\u001b[0m in \u001b[0;36m_functional_construction_call\u001b[1;34m(self, inputs, args, kwargs, input_list)\u001b[0m\n\u001b[0;32m   1122\u001b[0m                             \u001b[1;34m'dynamic. Pass `dynamic=True` to the class '\u001b[0m\u001b[1;33m\u001b[0m\u001b[1;33m\u001b[0m\u001b[0m\n\u001b[0;32m   1123\u001b[0m                             \u001b[1;34m'constructor.\\nEncountered error:\\n\"\"\"\\n'\u001b[0m \u001b[1;33m+\u001b[0m \u001b[0mstr\u001b[0m\u001b[1;33m(\u001b[0m\u001b[0me\u001b[0m\u001b[1;33m)\u001b[0m \u001b[1;33m+\u001b[0m\u001b[1;33m\u001b[0m\u001b[1;33m\u001b[0m\u001b[0m\n\u001b[1;32m-> 1124\u001b[1;33m                             '\\n\"\"\"')\n\u001b[0m\u001b[0;32m   1125\u001b[0m         \u001b[1;32melse\u001b[0m\u001b[1;33m:\u001b[0m\u001b[1;33m\u001b[0m\u001b[1;33m\u001b[0m\u001b[0m\n\u001b[0;32m   1126\u001b[0m           \u001b[1;31m# We will use static shape inference to return symbolic tensors\u001b[0m\u001b[1;33m\u001b[0m\u001b[1;33m\u001b[0m\u001b[1;33m\u001b[0m\u001b[0m\n",
      "\u001b[1;31mTypeError\u001b[0m: You are attempting to use Python control flow in a layer that was not declared to be dynamic. Pass `dynamic=True` to the class constructor.\nEncountered error:\n\"\"\"\nin user code:\n\n    <ipython-input-40-0196959ca834>:6 call  *\n        return self.F.TotalUUXS(inputs[:, :8], inputs[:, 8], inputs[:, 9], inputs[:, 10])\n    C:\\Users\\bijan\\Tensor Fit\\BHDVCStf.py:238 TotalUUXS  *\n        phi, k, QQ, xb, t, F1, F2, dvcs = x # a little weird but I like the readability\n    C:\\Users\\bijan\\anaconda3\\lib\\site-packages\\tensorflow\\python\\framework\\ops.py:503 __iter__\n        self._disallow_iteration()\n    C:\\Users\\bijan\\anaconda3\\lib\\site-packages\\tensorflow\\python\\framework\\ops.py:499 _disallow_iteration\n        self._disallow_in_graph_mode(\"iterating over `tf.Tensor`\")\n    C:\\Users\\bijan\\anaconda3\\lib\\site-packages\\tensorflow\\python\\framework\\ops.py:479 _disallow_in_graph_mode\n        \" this function with @tf.function.\".format(task))\n\n    OperatorNotAllowedInGraphError: iterating over `tf.Tensor` is not allowed in Graph execution. Use Eager execution or decorate this function with @tf.function.\n\n\"\"\""
     ]
    }
   ],
   "source": [
    "kinematics = tf.keras.Input(shape=(4))\n",
    "x = tf.keras.layers.Dense(20, activation=\"tanh\")(kinematics)\n",
    "outputs = tf.keras.layers.Dense(3)(x) #three output nodes for ReH, ReE, ReHtilde\n",
    "noncffInputs = tf.keras.Input(shape=(8))\n",
    "totalUUXSInputs = tf.keras.layers.concatenate([noncffInputs, outputs])\n",
    "F = TotalUUXS()(totalUUXSInputs)\n",
    "\n",
    "globalModel = tf.keras.Model(inputs=[kinematics, noncffInputs], outputs=F, name=\"GlobalModel\")"
   ]
  },
  {
   "cell_type": "code",
   "execution_count": null,
   "metadata": {},
   "outputs": [],
   "source": [
    "tf.keras.utils.plot_model(globalModel, \"cffs.png\", show_shapes=True)"
   ]
  },
  {
   "cell_type": "code",
   "execution_count": null,
   "metadata": {},
   "outputs": [],
   "source": [
    "globalModel.compile(\n",
    "    optimizer = tf.keras.optimizers.Adam(1),\n",
    "    loss = tf.keras.losses.MeanSquaredError(),\n",
    ")"
   ]
  },
  {
   "cell_type": "code",
   "execution_count": null,
   "metadata": {},
   "outputs": [],
   "source": [
    "globalModel.summary()"
   ]
  },
  {
   "cell_type": "code",
   "execution_count": null,
   "metadata": {},
   "outputs": [],
   "source": [
    "def cffs_from_globalModel(model):\n",
    "    subModel = tf.keras.backend.function(model.layers[0].input, model.layers[3].output)\n",
    "    return subModel(np.asarray(set0.Kinematics)[None, 0])[0]"
   ]
  },
  {
   "cell_type": "code",
   "execution_count": null,
   "metadata": {},
   "outputs": [],
   "source": [
    "numSamples = 20\n",
    "results = pd.DataFrame({\n",
    "  \"ReH\": np.zeros(numSamples),\n",
    "  \"ReE\": np.zeros(numSamples),\n",
    "  \"ReHtilde\": np.zeros(numSamples)\n",
    "})"
   ]
  },
  {
   "cell_type": "code",
   "execution_count": null,
   "metadata": {},
   "outputs": [],
   "source": [
    "for i in tqdm(range(numSamples)):\n",
    "    setI = data.getSet(0)\n",
    "    \n",
    "    chkpt_path = 'networks/sample-' + str(i) + '.hdf5'\n",
    "    model_checkpoint_callback = tf.keras.callbacks.ModelCheckpoint(\n",
    "        filepath=chkpt_path,\n",
    "        save_weights_only=True,\n",
    "        monitor='loss',\n",
    "        mode='min',\n",
    "        save_best_only=True)\n",
    "        \n",
    "    globalModel.compile(\n",
    "        optimizer = tf.keras.optimizers.Adam(1),\n",
    "        loss = tf.keras.losses.MeanSquaredError(),\n",
    "    )\n",
    "    \n",
    "    globalModel.fit([setI.Kinematics, setI.XnoCFF], setI.sampleY(),\n",
    "                epochs=2000, verbose=0,\n",
    "                callbacks=[model_checkpoint_callback])\n",
    "    \n",
    "    globalModel.load_weights(chkpt_path)\n",
    "\n",
    "    cffs = cffs_from_globalModel(globalModel)\n",
    "    \n",
    "    for num, cff in enumerate(['ReH', 'ReE', 'ReHtilde']):\n",
    "        results.loc[i, cff] = cffs[num]"
   ]
  },
  {
   "cell_type": "code",
   "execution_count": null,
   "metadata": {},
   "outputs": [],
   "source": [
    "results"
   ]
  },
  {
   "cell_type": "code",
   "execution_count": null,
   "metadata": {},
   "outputs": [],
   "source": [
    "print(pd.DataFrame({'Fitted': list(results.mean()),\n",
    "                'Error': list(results.std()),\n",
    "                'True': list(df.loc[0, ['ReH', 'ReE', 'ReHtilde']])},\n",
    "             ['ReH', 'ReE', 'ReHTilde']))"
   ]
  },
  {
   "cell_type": "code",
   "execution_count": null,
   "metadata": {},
   "outputs": [],
   "source": [
    "results.hist()\n",
    "plt.show()"
   ]
  },
  {
   "cell_type": "markdown",
   "metadata": {},
   "source": [
    "## For all layers"
   ]
  },
  {
   "cell_type": "code",
   "execution_count": null,
   "metadata": {},
   "outputs": [],
   "source": [
    "numSamples = 20\n",
    "\n",
    "for i in tqdm(range(max(df['#Set'])+1)):\n",
    "    setI = data.getSet(i)\n",
    "    \n",
    "    results = pd.DataFrame({\n",
    "      \"ReH\": np.zeros(numSamples),\n",
    "      \"ReE\": np.zeros(numSamples),\n",
    "      \"ReHtilde\": np.zeros(numSamples)\n",
    "    })\n",
    "    \n",
    "    for sample in range(numSamples):\n",
    "\n",
    "        chkpt_path = 'networks/sample-' + str(sample) + '.hdf5'\n",
    "        model_checkpoint_callback = tf.keras.callbacks.ModelCheckpoint(\n",
    "            filepath=chkpt_path,\n",
    "            save_weights_only=True,\n",
    "            monitor='loss',\n",
    "            mode='min',\n",
    "            save_best_only=True)\n",
    "\n",
    "\n",
    "        globalModel.fit([setI.Kinematics, setI.XnoCFF], setI.sampleY(),\n",
    "                    epochs=2000, verbose=0,\n",
    "                    callbacks=[model_checkpoint_callback])\n",
    "\n",
    "        globalModel.load_weights(chkpt_path)\n",
    "\n",
    "        cffs = cffs_from_globalModel(globalModel)\n",
    "\n",
    "        for num, cff in enumerate(['ReH', 'ReE', 'ReHtilde']):\n",
    "            results.loc[sample, cff] = cffs[num]\n",
    "        \n",
    "    print(\"\\nSet \" + str(i) + \":\")\n",
    "    print(pd.DataFrame({'Fitted': list(results.mean()),\n",
    "                'Error': list(results.std()),\n",
    "                'True': list(df.loc[36*i, ['ReH', 'ReE', 'ReHtilde']])},\n",
    "             ['ReH', 'ReE', 'ReHTilde']))"
   ]
  },
  {
   "cell_type": "code",
   "execution_count": null,
   "metadata": {},
   "outputs": [],
   "source": []
  },
  {
   "cell_type": "code",
   "execution_count": null,
   "metadata": {},
   "outputs": [],
   "source": []
  },
  {
   "cell_type": "code",
   "execution_count": null,
   "metadata": {},
   "outputs": [],
   "source": []
  }
 ],
 "metadata": {
  "kernelspec": {
   "display_name": "Python 3",
   "language": "python",
   "name": "python3"
  },
  "language_info": {
   "codemirror_mode": {
    "name": "ipython",
    "version": 3
   },
   "file_extension": ".py",
   "mimetype": "text/x-python",
   "name": "python",
   "nbconvert_exporter": "python",
   "pygments_lexer": "ipython3",
   "version": "3.7.6"
  }
 },
 "nbformat": 4,
 "nbformat_minor": 2
}
