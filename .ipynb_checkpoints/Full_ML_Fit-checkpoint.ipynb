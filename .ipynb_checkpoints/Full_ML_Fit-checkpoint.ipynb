{
 "cells": [
  {
   "cell_type": "markdown",
   "metadata": {},
   "source": [
    "#  Full ML fit\n",
    "\n",
    "This notebook is a follow up to the Prelim_ML_fit.ipynb experiment.  It improves upon that model with variance estimation using replica method and an exploration of optimization algorithms.  Finally, a dense layer is added preceding the model to demonstrate a potential architecture for a global fit."
   ]
  },
  {
   "cell_type": "markdown",
   "metadata": {},
   "source": [
    "# Setup"
   ]
  },
  {
   "cell_type": "code",
   "execution_count": 1,
   "metadata": {},
   "outputs": [],
   "source": [
    "# whenever changes are made to any imported files this will reload them automatically\n",
    "%load_ext autoreload\n",
    "%autoreload 2"
   ]
  },
  {
   "cell_type": "code",
   "execution_count": 2,
   "metadata": {},
   "outputs": [
    {
     "name": "stdout",
     "output_type": "stream",
     "text": [
      "2.2.0\n"
     ]
    }
   ],
   "source": [
    "import tensorflow as tf\n",
    "import numpy as np\n",
    "import pandas as pd\n",
    "import matplotlib.pyplot as plt\n",
    "from tqdm import tqdm\n",
    "\n",
    "print(tf.__version__)"
   ]
  },
  {
   "cell_type": "code",
   "execution_count": 3,
   "metadata": {},
   "outputs": [],
   "source": [
    "from BHDVCStf import BHDVCS #modified bhdvcs file\n",
    "bhdvcs = BHDVCS()"
   ]
  },
  {
   "cell_type": "code",
   "execution_count": 4,
   "metadata": {},
   "outputs": [],
   "source": [
    "df = pd.read_csv('dvcs_xs_newsets_genCFFs.csv')"
   ]
  },
  {
   "cell_type": "code",
   "execution_count": 5,
   "metadata": {},
   "outputs": [],
   "source": [
    "class DvcsData(object):\n",
    "    def __init__(self, df):\n",
    "        self.X = df.loc[:, ['phi_x', 'k', 'QQ', 'x_b', 't', 'F1', 'F2', 'ReH', 'ReE', 'ReHtilde', 'dvcs']]\n",
    "        self.XnoCFF = df.loc[:, ['phi_x', 'k', 'QQ', 'x_b', 't', 'F1', 'F2', 'dvcs']]\n",
    "        self.y = df.loc[:, 'F']\n",
    "        self.Kinematics = df.loc[:, ['k', 'QQ', 'x_b', 't']]\n",
    "        self.erry = df.loc[:, 'errF']\n",
    "        \n",
    "    def __len__(self):\n",
    "        return len(self.X)\n",
    "    \n",
    "    def getSet(self, setNum, itemsInSet=36):\n",
    "        pd.options.mode.chained_assignment = None\n",
    "        subX = self.X.loc[setNum*itemsInSet:(setNum+1)*itemsInSet-1, :]\n",
    "        subX['F'] = self.y.loc[setNum*itemsInSet:(setNum+1)*itemsInSet-1]\n",
    "        subX['errF'] = self.erry.loc[setNum*itemsInSet:(setNum+1)*itemsInSet-1]\n",
    "        pd.options.mode.chained_assignment = 'warn'\n",
    "        return DvcsData(subX)\n",
    "    \n",
    "    def sampleY(self):\n",
    "        return np.random.normal(self.y, self.erry)"
   ]
  },
  {
   "cell_type": "code",
   "execution_count": 6,
   "metadata": {},
   "outputs": [],
   "source": [
    "def vecF(DvcsData, TotalUUXS):\n",
    "    \"\"\"\n",
    "    params:\n",
    "        data: this should be of type DvcsData\n",
    "        TotalUUXS: this should be the function from F.C\n",
    "    \"\"\"\n",
    "    results = np.zeros(len(data))\n",
    "    for i in range(len(data)):\n",
    "        results[i] = TotalUUXS(*data.X.loc[i, :])\n",
    "    return results"
   ]
  },
  {
   "cell_type": "code",
   "execution_count": 7,
   "metadata": {},
   "outputs": [],
   "source": [
    "class savedParams(object):\n",
    "    def __init__(self, numEpochs):\n",
    "        self.savedparams = pd.DataFrame({'Epoch':np.zeros(numEpochs), 'Loss':np.zeros(numEpochs),\n",
    "                                         'ReH':np.zeros(numEpochs), 'ReE':np.zeros(numEpochs),\n",
    "                                         'ReHtilde':np.zeros(numEpochs)})\n",
    "    \n",
    "    def newData(self, epoch, loss, ReH, ReE, ReHtilde):\n",
    "        self.savedparams.loc[epoch, :] = {'Epoch':epoch, 'Loss':loss, 'ReH':ReH, 'ReE':ReE, 'ReHtilde':ReHtilde}"
   ]
  },
  {
   "cell_type": "code",
   "execution_count": 8,
   "metadata": {},
   "outputs": [],
   "source": [
    "def pcterr(obs, exp):\n",
    "    return 100*(obs-exp)/exp"
   ]
  },
  {
   "cell_type": "code",
   "execution_count": 9,
   "metadata": {},
   "outputs": [],
   "source": [
    "def form(tensors): #only works for 1d tensors\n",
    "    return str(np.round(np.array([x.numpy() for x in tensors]), decimals=2))"
   ]
  },
  {
   "cell_type": "markdown",
   "metadata": {},
   "source": [
    "## Replica method"
   ]
  },
  {
   "cell_type": "code",
   "execution_count": 76,
   "metadata": {},
   "outputs": [],
   "source": [
    "data = DvcsData(df)\n",
    "set0 = data.getSet(0)\n",
    "X_train = np.asarray(set0.XnoCFF).T # have to take transpose to get everything to work\n",
    "y_sample = np.asarray(set0.sampleY())"
   ]
  },
  {
   "cell_type": "code",
   "execution_count": 22,
   "metadata": {},
   "outputs": [],
   "source": [
    "class TotalUUXS(tf.keras.Model):\n",
    "    def __init__(self):\n",
    "        super(TotalUUXS, self).__init__(dtype='float64')\n",
    "        self.ReH = tf.Variable(1., dtype='float64', name='ReH') # all compton form factors are set to 1.0 initially\n",
    "        self.ReE = tf.Variable(1., dtype='float64', name='ReE')\n",
    "        self.ReHtilde = tf.Variable(1., dtype='float64', name='ReHtilde')\n",
    "        self.F = BHDVCS()\n",
    "    def call(self, inputs):\n",
    "        return self.F.TotalUUXS(inputs, self.ReH, self.ReE, self.ReHtilde)"
   ]
  },
  {
   "cell_type": "code",
   "execution_count": 23,
   "metadata": {},
   "outputs": [],
   "source": [
    "def loss(model, inputs, targets):\n",
    "    error = model(inputs) - targets\n",
    "    return tf.reduce_mean(tf.square(error))"
   ]
  },
  {
   "cell_type": "code",
   "execution_count": 24,
   "metadata": {},
   "outputs": [],
   "source": [
    "def grad(model, inputs, targets):\n",
    "    with tf.GradientTape() as tape:\n",
    "        loss_value = loss(model, inputs, targets)\n",
    "    return tape.gradient(loss_value, [model.ReH, model.ReE, model.ReHtilde])"
   ]
  },
  {
   "cell_type": "code",
   "execution_count": 46,
   "metadata": {},
   "outputs": [],
   "source": [
    "def training_loop(epochs, X_train, y_train, lr=5000, when2print=None):\n",
    "    \n",
    "    sv = savedParams(epochs)\n",
    "    model = TotalUUXS()  # Should maybe be refactored\n",
    "    optimizer = tf.keras.optimizers.Adam(learning_rate=lr) # in this case we need a pretty high learning rate\n",
    "    \n",
    "    for i in range(epochs):\n",
    "        grads = grad(model, X_train, y_train)\n",
    "        optimizer.apply_gradients(zip(grads, [model.ReH, model.ReE, model.ReHtilde]), )\n",
    "\n",
    "        epoch_loss = loss(model, X_train, y_train)\n",
    "        sv.newData(i, epoch_loss.numpy(), model.ReH.numpy(), model.ReE.numpy(), model.ReHtilde.numpy())\n",
    "        if when2print:\n",
    "            if i % when2print == 0: # print state every __ epochs\n",
    "                print(\"Loss at epoch {:03d}: {:.5f}\".format(i, epoch_loss),\n",
    "                      \"Grads: \" + form(grads),\n",
    "                      \"ReH, ReE, ReHtilde: \" + form([model.ReH, model.ReE, model.ReHtilde]))\n",
    "    return sv"
   ]
  },
  {
   "cell_type": "markdown",
   "metadata": {},
   "source": [
    "The only difference between this training loop and the one in my previous notebook is that y is being sampled each time rather than passed directly"
   ]
  },
  {
   "cell_type": "markdown",
   "metadata": {},
   "source": [
    "## Run model"
   ]
  },
  {
   "cell_type": "code",
   "execution_count": 43,
   "metadata": {},
   "outputs": [],
   "source": [
    "numSamples = 50\n",
    "results = pd.DataFrame({\n",
    "  \"ReH\": np.zeros(numSamples),\n",
    "  \"ReE\": np.zeros(numSamples),\n",
    "  \"ReHtilde\": np.zeros(numSamples)\n",
    "})"
   ]
  },
  {
   "cell_type": "code",
   "execution_count": 47,
   "metadata": {},
   "outputs": [
    {
     "name": "stderr",
     "output_type": "stream",
     "text": [
      "100%|██████████| 50/50 [43:31<00:00, 52.23s/it]\n"
     ]
    }
   ],
   "source": [
    "for i in tqdm(range(numSamples)):\n",
    "    setI = data.getSet(0)\n",
    "    X_train = np.asarray(setI.XnoCFF).T # have to take transpose to get everything to work\n",
    "    y_train = np.asarray(setI.sampleY())\n",
    "    info = training_loop(1500, X_train, y_train, lr=3100)\n",
    "    minloss = info.savedparams.loc[info.savedparams['Loss'].idxmin(), :]\n",
    "    \n",
    "    for cff in ['ReH', 'ReE', 'ReHtilde']:\n",
    "        results.loc[i, cff] = minloss[cff]"
   ]
  },
  {
   "cell_type": "markdown",
   "metadata": {},
   "source": [
    "## Results"
   ]
  },
  {
   "cell_type": "code",
   "execution_count": 74,
   "metadata": {},
   "outputs": [
    {
     "name": "stdout",
     "output_type": "stream",
     "text": [
      "             Fitted     Error      True\n",
      "ReH       12.624919  0.932534  13.05540\n",
      "ReE      -50.918395  4.837425 -53.05540\n",
      "ReHTilde   7.176023  0.714322   7.25302\n"
     ]
    }
   ],
   "source": [
    "print(pd.DataFrame({'Fitted': list(results.mean()),\n",
    "                'Error': list(results.std()),\n",
    "                'True': list(df.loc[0, ['ReH', 'ReE', 'ReHtilde']])},\n",
    "             ['ReH', 'ReE', 'ReHTilde']))"
   ]
  },
  {
   "cell_type": "code",
   "execution_count": 63,
   "metadata": {},
   "outputs": [
    {
     "data": {
      "image/png": "[encoded data removed]",
      "text/plain": [
       "<Figure size 432x288 with 4 Axes>"
      ]
     },
     "metadata": {
      "needs_background": "light"
     },
     "output_type": "display_data"
    }
   ],
   "source": [
    "%matplotlib inline\n",
    "results.hist()\n",
    "plt.show()"
   ]
  },
  {
   "cell_type": "code",
   "execution_count": 70,
   "metadata": {},
   "outputs": [
    {
     "name": "stdout",
     "output_type": "stream",
     "text": [
      "95% Lower Bound:\n",
      "ReH         10.759851\n",
      "ReE        -60.593245\n",
      "ReHtilde     5.747379\n",
      "dtype: float64\n",
      "\n",
      "95% Upper Bound:\n",
      "ReH         14.489986\n",
      "ReE        -41.243545\n",
      "ReHtilde     8.604668\n",
      "dtype: float64\n",
      "\n",
      "True:\n",
      "ReH         13.05540\n",
      "ReE        -53.05540\n",
      "ReHtilde     7.25302\n",
      "Name: 0, dtype: float64\n"
     ]
    }
   ],
   "source": [
    "print(\"95% Lower Bound:\")\n",
    "print(results.mean() - 2*results.std())\n",
    "print(\"\\n95% Upper Bound:\")\n",
    "print(results.mean() + 2*results.std())\n",
    "print(\"\\nTrue:\")\n",
    "print(df.loc[0, ['ReH', 'ReE', 'ReHtilde']])"
   ]
  },
  {
   "cell_type": "markdown",
   "metadata": {},
   "source": [
    "# Add Preceding Dense Layer\n",
    "\n",
    "To demonstrate global fit"
   ]
  },
  {
   "cell_type": "code",
   "execution_count": 15,
   "metadata": {},
   "outputs": [],
   "source": [
    "data = DvcsData(df)\n",
    "set0 = data.getSet(0)"
   ]
  },
  {
   "cell_type": "markdown",
   "metadata": {},
   "source": [
    "## Model"
   ]
  },
  {
   "cell_type": "markdown",
   "metadata": {},
   "source": [
    "### Define functional layer"
   ]
  },
  {
   "cell_type": "code",
   "execution_count": 118,
   "metadata": {},
   "outputs": [],
   "source": [
    "class TotalUUXS(tf.keras.layers.Layer):\n",
    "    def __init__(self):\n",
    "        super(TotalUUXS, self).__init__(dtype='float64')\n",
    "        self.F = BHDVCS()\n",
    "    def call(self, inputs):\n",
    "        return self.F.TotalUUXS(inputs[:, :8], inputs[:, 8], inputs[:, 9], inputs[:, 10])"
   ]
  },
  {
   "cell_type": "markdown",
   "metadata": {},
   "source": [
    "### Define model"
   ]
  },
  {
   "cell_type": "code",
   "execution_count": 234,
   "metadata": {},
   "outputs": [],
   "source": [
    "kinematics = tf.keras.Input(shape=(4))\n",
    "x = tf.keras.layers.Dense(20, activation=\"tanh\")(kinematics)\n",
    "outputs = tf.keras.layers.Dense(3)(x) #three output nodes for ReH, ReE, ReHtilde\n",
    "noncffInputs = tf.keras.Input(shape=(8))\n",
    "totalUUXSInputs = tf.keras.layers.concatenate([noncffInputs, outputs])\n",
    "F = TotalUUXS()(totalUUXSInputs)\n",
    "\n",
    "globalModel = tf.keras.Model(inputs=[kinematics, noncffInputs], outputs=F, name=\"GlobalModel\")"
   ]
  },
  {
   "cell_type": "code",
   "execution_count": 235,
   "metadata": {},
   "outputs": [
    {
     "data": {
      "image/png": "[encoded data removed]",
      "text/plain": [
       "<IPython.core.display.Image object>"
      ]
     },
     "execution_count": 235,
     "metadata": {},
     "output_type": "execute_result"
    }
   ],
   "source": [
    "tf.keras.utils.plot_model(globalModel, \"cffs.png\", show_shapes=True)"
   ]
  },
  {
   "cell_type": "code",
   "execution_count": 236,
   "metadata": {},
   "outputs": [],
   "source": [
    "globalModel.compile(\n",
    "    optimizer = tf.keras.optimizers.Adam(1),\n",
    "    loss = tf.keras.losses.MeanSquaredError(),\n",
    ")"
   ]
  },
  {
   "cell_type": "code",
   "execution_count": 237,
   "metadata": {},
   "outputs": [
    {
     "name": "stdout",
     "output_type": "stream",
     "text": [
      "Model: \"GlobalModel\"\n",
      "__________________________________________________________________________________________________\n",
      "Layer (type)                    Output Shape         Param #     Connected to                     \n",
      "==================================================================================================\n",
      "input_13 (InputLayer)           [(None, 4)]          0                                            \n",
      "__________________________________________________________________________________________________\n",
      "dense_12 (Dense)                (None, 20)           100         input_13[0][0]                   \n",
      "__________________________________________________________________________________________________\n",
      "input_14 (InputLayer)           [(None, 8)]          0                                            \n",
      "__________________________________________________________________________________________________\n",
      "dense_13 (Dense)                (None, 3)            63          dense_12[0][0]                   \n",
      "__________________________________________________________________________________________________\n",
      "concatenate_6 (Concatenate)     (None, 11)           0           input_14[0][0]                   \n",
      "                                                                 dense_13[0][0]                   \n",
      "__________________________________________________________________________________________________\n",
      "total_uuxs_6 (TotalUUXS)        (None,)              0           concatenate_6[0][0]              \n",
      "==================================================================================================\n",
      "Total params: 163\n",
      "Trainable params: 163\n",
      "Non-trainable params: 0\n",
      "__________________________________________________________________________________________________\n"
     ]
    }
   ],
   "source": [
    "globalModel.summary()"
   ]
  },
  {
   "cell_type": "code",
   "execution_count": 247,
   "metadata": {},
   "outputs": [],
   "source": [
    "def cffs_from_globalModel(model):\n",
    "    subModel = tf.keras.backend.function(model.layers[0].input, model.layers[3].output)\n",
    "    return subModel(np.asarray(set0.Kinematics)[None, 0])[0]"
   ]
  },
  {
   "cell_type": "code",
   "execution_count": 254,
   "metadata": {},
   "outputs": [],
   "source": [
    "numSamples = 20\n",
    "results = pd.DataFrame({\n",
    "  \"ReH\": np.zeros(numSamples),\n",
    "  \"ReE\": np.zeros(numSamples),\n",
    "  \"ReHtilde\": np.zeros(numSamples)\n",
    "})"
   ]
  },
  {
   "cell_type": "code",
   "execution_count": 265,
   "metadata": {},
   "outputs": [
    {
     "name": "stderr",
     "output_type": "stream",
     "text": [
      "100%|██████████| 20/20 [06:58<00:00, 20.93s/it]\n"
     ]
    }
   ],
   "source": [
    "for i in tqdm(range(numSamples)):\n",
    "    setI = data.getSet(0)\n",
    "    \n",
    "    chkpt_path = 'networks/sample-' + str(i) + '.hdf5'\n",
    "    model_checkpoint_callback = tf.keras.callbacks.ModelCheckpoint(\n",
    "        filepath=chkpt_path,\n",
    "        save_weights_only=True,\n",
    "        monitor='loss',\n",
    "        mode='min',\n",
    "        save_best_only=True)\n",
    "        \n",
    "    globalModel.compile(\n",
    "        optimizer = tf.keras.optimizers.Adam(1),\n",
    "        loss = tf.keras.losses.MeanSquaredError(),\n",
    "    )\n",
    "    \n",
    "    globalModel.fit([setI.Kinematics, setI.XnoCFF], setI.sampleY(),\n",
    "                epochs=2000, verbose=0,\n",
    "                callbacks=[model_checkpoint_callback])\n",
    "    \n",
    "    globalModel.load_weights(chkpt_path)\n",
    "\n",
    "    cffs = cffs_from_globalModel(globalModel)\n",
    "    \n",
    "    for num, cff in enumerate(['ReH', 'ReE', 'ReHtilde']):\n",
    "        results.loc[i, cff] = cffs[num]"
   ]
  },
  {
   "cell_type": "code",
   "execution_count": 266,
   "metadata": {},
   "outputs": [
    {
     "data": {
      "text/html": [
       "<div>\n",
       "<style scoped>\n",
       "    .dataframe tbody tr th:only-of-type {\n",
       "        vertical-align: middle;\n",
       "    }\n",
       "\n",
       "    .dataframe tbody tr th {\n",
       "        vertical-align: top;\n",
       "    }\n",
       "\n",
       "    .dataframe thead th {\n",
       "        text-align: right;\n",
       "    }\n",
       "</style>\n",
       "<table border=\"1\" class=\"dataframe\">\n",
       "  <thead>\n",
       "    <tr style=\"text-align: right;\">\n",
       "      <th></th>\n",
       "      <th>ReH</th>\n",
       "      <th>ReE</th>\n",
       "      <th>ReHtilde</th>\n",
       "    </tr>\n",
       "  </thead>\n",
       "  <tbody>\n",
       "    <tr>\n",
       "      <th>0</th>\n",
       "      <td>14.034393</td>\n",
       "      <td>-59.585411</td>\n",
       "      <td>7.784769</td>\n",
       "    </tr>\n",
       "    <tr>\n",
       "      <th>1</th>\n",
       "      <td>14.176863</td>\n",
       "      <td>-56.442562</td>\n",
       "      <td>6.728830</td>\n",
       "    </tr>\n",
       "    <tr>\n",
       "      <th>2</th>\n",
       "      <td>14.158726</td>\n",
       "      <td>-60.749958</td>\n",
       "      <td>8.066148</td>\n",
       "    </tr>\n",
       "    <tr>\n",
       "      <th>3</th>\n",
       "      <td>14.660316</td>\n",
       "      <td>-63.306622</td>\n",
       "      <td>6.730144</td>\n",
       "    </tr>\n",
       "    <tr>\n",
       "      <th>4</th>\n",
       "      <td>15.628878</td>\n",
       "      <td>-65.046349</td>\n",
       "      <td>7.357785</td>\n",
       "    </tr>\n",
       "    <tr>\n",
       "      <th>5</th>\n",
       "      <td>15.036820</td>\n",
       "      <td>-65.680298</td>\n",
       "      <td>7.368266</td>\n",
       "    </tr>\n",
       "    <tr>\n",
       "      <th>6</th>\n",
       "      <td>12.993145</td>\n",
       "      <td>-59.284203</td>\n",
       "      <td>7.366944</td>\n",
       "    </tr>\n",
       "    <tr>\n",
       "      <th>7</th>\n",
       "      <td>13.297242</td>\n",
       "      <td>-57.952564</td>\n",
       "      <td>7.038604</td>\n",
       "    </tr>\n",
       "    <tr>\n",
       "      <th>8</th>\n",
       "      <td>13.768682</td>\n",
       "      <td>-59.008068</td>\n",
       "      <td>8.646922</td>\n",
       "    </tr>\n",
       "    <tr>\n",
       "      <th>9</th>\n",
       "      <td>14.514191</td>\n",
       "      <td>-59.038734</td>\n",
       "      <td>7.667815</td>\n",
       "    </tr>\n",
       "    <tr>\n",
       "      <th>10</th>\n",
       "      <td>13.811182</td>\n",
       "      <td>-58.984940</td>\n",
       "      <td>6.343366</td>\n",
       "    </tr>\n",
       "    <tr>\n",
       "      <th>11</th>\n",
       "      <td>13.210690</td>\n",
       "      <td>-55.228416</td>\n",
       "      <td>7.879257</td>\n",
       "    </tr>\n",
       "    <tr>\n",
       "      <th>12</th>\n",
       "      <td>12.244370</td>\n",
       "      <td>-48.202557</td>\n",
       "      <td>6.237465</td>\n",
       "    </tr>\n",
       "    <tr>\n",
       "      <th>13</th>\n",
       "      <td>11.974994</td>\n",
       "      <td>-48.782017</td>\n",
       "      <td>6.493592</td>\n",
       "    </tr>\n",
       "    <tr>\n",
       "      <th>14</th>\n",
       "      <td>13.050030</td>\n",
       "      <td>-54.270908</td>\n",
       "      <td>7.782737</td>\n",
       "    </tr>\n",
       "    <tr>\n",
       "      <th>15</th>\n",
       "      <td>12.474749</td>\n",
       "      <td>-51.323402</td>\n",
       "      <td>8.128498</td>\n",
       "    </tr>\n",
       "    <tr>\n",
       "      <th>16</th>\n",
       "      <td>14.384991</td>\n",
       "      <td>-58.952980</td>\n",
       "      <td>5.876028</td>\n",
       "    </tr>\n",
       "    <tr>\n",
       "      <th>17</th>\n",
       "      <td>14.249075</td>\n",
       "      <td>-57.580685</td>\n",
       "      <td>6.110049</td>\n",
       "    </tr>\n",
       "    <tr>\n",
       "      <th>18</th>\n",
       "      <td>13.116208</td>\n",
       "      <td>-54.834644</td>\n",
       "      <td>7.150667</td>\n",
       "    </tr>\n",
       "    <tr>\n",
       "      <th>19</th>\n",
       "      <td>13.426708</td>\n",
       "      <td>-53.443779</td>\n",
       "      <td>6.196328</td>\n",
       "    </tr>\n",
       "  </tbody>\n",
       "</table>\n",
       "</div>"
      ],
      "text/plain": [
       "          ReH        ReE  ReHtilde\n",
       "0   14.034393 -59.585411  7.784769\n",
       "1   14.176863 -56.442562  6.728830\n",
       "2   14.158726 -60.749958  8.066148\n",
       "3   14.660316 -63.306622  6.730144\n",
       "4   15.628878 -65.046349  7.357785\n",
       "5   15.036820 -65.680298  7.368266\n",
       "6   12.993145 -59.284203  7.366944\n",
       "7   13.297242 -57.952564  7.038604\n",
       "8   13.768682 -59.008068  8.646922\n",
       "9   14.514191 -59.038734  7.667815\n",
       "10  13.811182 -58.984940  6.343366\n",
       "11  13.210690 -55.228416  7.879257\n",
       "12  12.244370 -48.202557  6.237465\n",
       "13  11.974994 -48.782017  6.493592\n",
       "14  13.050030 -54.270908  7.782737\n",
       "15  12.474749 -51.323402  8.128498\n",
       "16  14.384991 -58.952980  5.876028\n",
       "17  14.249075 -57.580685  6.110049\n",
       "18  13.116208 -54.834644  7.150667\n",
       "19  13.426708 -53.443779  6.196328"
      ]
     },
     "execution_count": 266,
     "metadata": {},
     "output_type": "execute_result"
    }
   ],
   "source": [
    "results"
   ]
  },
  {
   "cell_type": "code",
   "execution_count": 268,
   "metadata": {},
   "outputs": [
    {
     "name": "stdout",
     "output_type": "stream",
     "text": [
      "             Fitted     Error      True\n",
      "ReH       13.710613  0.939287  13.05540\n",
      "ReE      -57.384955  4.731970 -53.05540\n",
      "ReHTilde   7.147711  0.783813   7.25302\n"
     ]
    }
   ],
   "source": [
    "print(pd.DataFrame({'Fitted': list(results.mean()),\n",
    "                'Error': list(results.std()),\n",
    "                'True': list(df.loc[0, ['ReH', 'ReE', 'ReHtilde']])},\n",
    "             ['ReH', 'ReE', 'ReHTilde']))"
   ]
  },
  {
   "cell_type": "code",
   "execution_count": 269,
   "metadata": {},
   "outputs": [
    {
     "data": {
      "image/png": "[encoded data removed]",
      "text/plain": [
       "<Figure size 432x288 with 4 Axes>"
      ]
     },
     "metadata": {
      "needs_background": "light"
     },
     "output_type": "display_data"
    }
   ],
   "source": [
    "results.hist()\n",
    "plt.show()"
   ]
  },
  {
   "cell_type": "markdown",
   "metadata": {},
   "source": [
    "## For all layers"
   ]
  },
  {
   "cell_type": "code",
   "execution_count": 276,
   "metadata": {},
   "outputs": [
    {
     "name": "stderr",
     "output_type": "stream",
     "text": [
      "  7%|▋         | 1/15 [05:40<1:19:28, 340.63s/it]"
     ]
    },
    {
     "name": "stdout",
     "output_type": "stream",
     "text": [
      "/nSet 0:\n",
      "             Fitted     Error      True\n",
      "ReH       14.112047  0.839516  13.05540\n",
      "ReE      -58.437803  4.429472 -53.05540\n",
      "ReHTilde   6.838609  0.695969   7.25302\n"
     ]
    },
    {
     "name": "stderr",
     "output_type": "stream",
     "text": [
      "\r",
      " 13%|█▎        | 2/15 [11:15<1:13:25, 338.86s/it]"
     ]
    },
    {
     "name": "stdout",
     "output_type": "stream",
     "text": [
      "/nSet 1:\n",
      "             Fitted      Error      True\n",
      "ReH        9.857827   1.787724  12.55490\n",
      "ReE      -35.212994  10.331747 -52.55490\n",
      "ReHTilde   8.698388   1.193308   6.97494\n"
     ]
    },
    {
     "name": "stderr",
     "output_type": "stream",
     "text": [
      "\r",
      " 20%|██        | 3/15 [17:12<1:08:53, 344.42s/it]"
     ]
    },
    {
     "name": "stdout",
     "output_type": "stream",
     "text": [
      "/nSet 2:\n",
      "             Fitted      Error      True\n",
      "ReH        6.104657   2.262513   7.22424\n",
      "ReE      -39.823050  11.300533 -47.22420\n",
      "ReHTilde   4.362656   1.265079   4.01347\n"
     ]
    },
    {
     "name": "stderr",
     "output_type": "stream",
     "text": [
      "\r",
      " 27%|██▋       | 4/15 [23:00<1:03:20, 345.54s/it]"
     ]
    },
    {
     "name": "stdout",
     "output_type": "stream",
     "text": [
      "/nSet 3:\n",
      "             Fitted      Error      True\n",
      "ReH       16.262868   3.544243   7.65272\n",
      "ReE      -90.153913  16.549670 -47.65270\n",
      "ReHTilde   7.094729   2.032860   4.25151\n"
     ]
    },
    {
     "name": "stderr",
     "output_type": "stream",
     "text": [
      "\r",
      " 33%|███▎      | 5/15 [28:50<57:46, 346.68s/it]  "
     ]
    },
    {
     "name": "stdout",
     "output_type": "stream",
     "text": [
      "/nSet 4:\n",
      "             Fitted     Error      True\n",
      "ReH       12.077860  1.612539  12.55490\n",
      "ReE      -49.304365  8.065214 -52.55490\n",
      "ReHTilde   8.059329  0.810763   6.97494\n"
     ]
    },
    {
     "name": "stderr",
     "output_type": "stream",
     "text": [
      "\r",
      " 40%|████      | 6/15 [34:41<52:13, 348.14s/it]"
     ]
    },
    {
     "name": "stdout",
     "output_type": "stream",
     "text": [
      "/nSet 5:\n",
      "             Fitted      Error      True\n",
      "ReH        6.392732   2.396263   7.22424\n",
      "ReE      -42.352917  13.222071 -47.22420\n",
      "ReHTilde   4.201439   1.360092   4.01347\n"
     ]
    },
    {
     "name": "stderr",
     "output_type": "stream",
     "text": [
      "\r",
      " 47%|████▋     | 7/15 [40:32<46:31, 348.94s/it]"
     ]
    },
    {
     "name": "stdout",
     "output_type": "stream",
     "text": [
      "/nSet 6:\n",
      "             Fitted      Error      True\n",
      "ReH        9.178450   2.506945  11.74110\n",
      "ReE      -36.974342  13.620177 -51.74110\n",
      "ReHTilde   7.511688   1.848255   6.52283\n"
     ]
    },
    {
     "name": "stderr",
     "output_type": "stream",
     "text": [
      "\r",
      " 53%|█████▎    | 8/15 [46:22<40:44, 349.26s/it]"
     ]
    },
    {
     "name": "stdout",
     "output_type": "stream",
     "text": [
      "/nSet 7:\n",
      "             Fitted     Error      True\n",
      "ReH       14.763195  1.707514   7.65272\n",
      "ReE      -82.351760  9.056202 -47.65270\n",
      "ReHTilde   8.632302  2.019256   4.25151\n"
     ]
    },
    {
     "name": "stderr",
     "output_type": "stream",
     "text": [
      "\r",
      " 60%|██████    | 9/15 [52:40<35:46, 357.78s/it]"
     ]
    },
    {
     "name": "stdout",
     "output_type": "stream",
     "text": [
      "/nSet 8:\n",
      "             Fitted     Error      True\n",
      "ReH       12.617230  0.884607  12.55490\n",
      "ReE      -51.805277  3.472707 -52.55490\n",
      "ReHTilde   7.707290  0.998357   6.97494\n"
     ]
    },
    {
     "name": "stderr",
     "output_type": "stream",
     "text": [
      "\r",
      " 67%|██████▋   | 10/15 [58:51<30:09, 361.94s/it]"
     ]
    },
    {
     "name": "stdout",
     "output_type": "stream",
     "text": [
      "/nSet 9:\n",
      "             Fitted     Error      True\n",
      "ReH        8.479805  1.364516   6.99014\n",
      "ReE      -55.217646  8.257389 -46.99010\n",
      "ReHTilde   3.456119  0.693445   3.88341\n"
     ]
    },
    {
     "name": "stderr",
     "output_type": "stream",
     "text": [
      "\r",
      " 73%|███████▎  | 11/15 [1:04:50<24:03, 360.91s/it]"
     ]
    },
    {
     "name": "stdout",
     "output_type": "stream",
     "text": [
      "/nSet 10:\n",
      "             Fitted      Error      True\n",
      "ReH        6.638444   1.941864   7.22424\n",
      "ReE      -44.125384  10.323857 -47.22420\n",
      "ReHTilde   4.211899   1.130377   4.01347\n"
     ]
    },
    {
     "name": "stderr",
     "output_type": "stream",
     "text": [
      "\r",
      " 80%|████████  | 12/15 [1:10:53<18:04, 361.45s/it]"
     ]
    },
    {
     "name": "stdout",
     "output_type": "stream",
     "text": [
      "/nSet 11:\n",
      "             Fitted     Error      True\n",
      "ReH        9.575435  1.734397  11.74110\n",
      "ReE      -40.878047  9.090715 -51.74110\n",
      "ReHTilde   7.189890  1.432066   6.52283\n"
     ]
    },
    {
     "name": "stderr",
     "output_type": "stream",
     "text": [
      "\r",
      " 87%|████████▋ | 13/15 [1:16:45<11:57, 358.74s/it]"
     ]
    },
    {
     "name": "stdout",
     "output_type": "stream",
     "text": [
      "/nSet 12:\n",
      "             Fitted     Error      True\n",
      "ReH        7.913685  1.240425   6.99014\n",
      "ReE      -53.158244  7.355335 -46.99010\n",
      "ReHTilde   3.335798  1.266490   3.88341\n"
     ]
    },
    {
     "name": "stderr",
     "output_type": "stream",
     "text": [
      "\r",
      " 93%|█████████▎| 14/15 [1:22:38<05:56, 356.93s/it]"
     ]
    },
    {
     "name": "stdout",
     "output_type": "stream",
     "text": [
      "/nSet 13:\n",
      "             Fitted     Error      True\n",
      "ReH        7.270663  1.470821   7.22424\n",
      "ReE      -46.851896  8.073560 -47.22420\n",
      "ReHTilde   4.341389  1.327850   4.01347\n"
     ]
    },
    {
     "name": "stderr",
     "output_type": "stream",
     "text": [
      "100%|██████████| 15/15 [1:28:10<00:00, 352.73s/it]"
     ]
    },
    {
     "name": "stdout",
     "output_type": "stream",
     "text": [
      "/nSet 14:\n",
      "             Fitted     Error      True\n",
      "ReH       11.951709  1.252804  11.74110\n",
      "ReE      -51.748105  6.959838 -51.74110\n",
      "ReHTilde   6.524182  1.185902   6.52283\n"
     ]
    },
    {
     "name": "stderr",
     "output_type": "stream",
     "text": [
      "\n"
     ]
    }
   ],
   "source": [
    "numSamples = 20\n",
    "\n",
    "for i in tqdm(range(max(df['#Set'])+1)):\n",
    "    setI = data.getSet(i)\n",
    "    \n",
    "    results = pd.DataFrame({\n",
    "      \"ReH\": np.zeros(numSamples),\n",
    "      \"ReE\": np.zeros(numSamples),\n",
    "      \"ReHtilde\": np.zeros(numSamples)\n",
    "    })\n",
    "    \n",
    "    for sample in range(numSamples):\n",
    "\n",
    "        chkpt_path = 'networks/sample-' + str(sample) + '.hdf5'\n",
    "        model_checkpoint_callback = tf.keras.callbacks.ModelCheckpoint(\n",
    "            filepath=chkpt_path,\n",
    "            save_weights_only=True,\n",
    "            monitor='loss',\n",
    "            mode='min',\n",
    "            save_best_only=True)\n",
    "\n",
    "\n",
    "        globalModel.fit([setI.Kinematics, setI.XnoCFF], setI.sampleY(),\n",
    "                    epochs=2000, verbose=0,\n",
    "                    callbacks=[model_checkpoint_callback])\n",
    "\n",
    "        globalModel.load_weights(chkpt_path)\n",
    "\n",
    "        cffs = cffs_from_globalModel(globalModel)\n",
    "\n",
    "        for num, cff in enumerate(['ReH', 'ReE', 'ReHtilde']):\n",
    "            results.loc[sample, cff] = cffs[num]\n",
    "        \n",
    "    print(\"\\nSet \" + str(i) + \":\")\n",
    "    print(pd.DataFrame({'Fitted': list(results.mean()),\n",
    "                'Error': list(results.std()),\n",
    "                'True': list(df.loc[36*i, ['ReH', 'ReE', 'ReHtilde']])},\n",
    "             ['ReH', 'ReE', 'ReHTilde']))"
   ]
  },
  {
   "cell_type": "code",
   "execution_count": null,
   "metadata": {},
   "outputs": [],
   "source": []
  }
 ],
 "metadata": {
  "kernelspec": {
   "display_name": "Py38Root",
   "language": "python",
   "name": "python3"
  },
  "language_info": {
   "codemirror_mode": {
    "name": "ipython",
    "version": 3
   },
   "file_extension": ".py",
   "mimetype": "text/x-python",
   "name": "python",
   "nbconvert_exporter": "python",
   "pygments_lexer": "ipython3",
   "version": "3.8.3"
  }
 },
 "nbformat": 4,
 "nbformat_minor": 2
}
